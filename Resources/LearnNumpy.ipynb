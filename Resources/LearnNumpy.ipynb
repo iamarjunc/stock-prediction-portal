{
 "cells": [
  {
   "cell_type": "code",
   "execution_count": 4,
   "id": "cdf0c75c-838c-4422-b329-e05466130af4",
   "metadata": {},
   "outputs": [],
   "source": [
    "import numpy as np"
   ]
  },
  {
   "cell_type": "code",
   "execution_count": 5,
   "id": "6d0647a9-70ab-40f6-b483-a1f0628f3664",
   "metadata": {},
   "outputs": [
    {
     "data": {
      "text/plain": [
       "'1.26.4'"
      ]
     },
     "execution_count": 5,
     "metadata": {},
     "output_type": "execute_result"
    }
   ],
   "source": [
    "np.__version__"
   ]
  },
  {
   "cell_type": "markdown",
   "id": "eee244f2-647b-440a-bc2a-32f44122e23e",
   "metadata": {},
   "source": [
    "## Create & Read"
   ]
  },
  {
   "cell_type": "markdown",
   "id": "87ed13ce-839e-40ac-92ab-e215652e7445",
   "metadata": {},
   "source": [
    "#### 1D Array"
   ]
  },
  {
   "cell_type": "code",
   "execution_count": null,
   "id": "7b5cbddd-7ade-4caf-ae7c-e3b0170c554e",
   "metadata": {},
   "outputs": [],
   "source": [
    "arr1 = np.array["
   ]
  }
 ],
 "metadata": {
  "kernelspec": {
   "display_name": "Python 3 (ipykernel)",
   "language": "python",
   "name": "python3"
  },
  "language_info": {
   "codemirror_mode": {
    "name": "ipython",
    "version": 3
   },
   "file_extension": ".py",
   "mimetype": "text/x-python",
   "name": "python",
   "nbconvert_exporter": "python",
   "pygments_lexer": "ipython3",
   "version": "3.12.5"
  }
 },
 "nbformat": 4,
 "nbformat_minor": 5
}
